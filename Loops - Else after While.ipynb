{
 "cells": [
  {
   "cell_type": "markdown",
   "id": "59ee19ea",
   "metadata": {},
   "source": [
    "# Else after While\n",
    "In a while statement, the else block will always be executed when the condition in the while statement becomes false."
   ]
  },
  {
   "cell_type": "code",
   "execution_count": 12,
   "id": "5a57d7a8",
   "metadata": {},
   "outputs": [
    {
     "name": "stdout",
     "output_type": "stream",
     "text": [
      "2\n",
      "4\n",
      "6\n"
     ]
    }
   ],
   "source": [
    "number = int(input())\n",
    "             \n",
    "while (number < 10):\n",
    "    number = number + 2\n",
    "    if number == 8:\n",
    "        break\n",
    "    print(number)\n",
    "else:\n",
    "    print(\"Loop End\")"
   ]
  },
  {
   "cell_type": "code",
   "execution_count": 1,
   "id": "d55adca1",
   "metadata": {},
   "outputs": [
    {
     "name": "stdout",
     "output_type": "stream",
     "text": [
      "10\n",
      "14\n",
      "18\n",
      "22\n",
      "Loop End\n"
     ]
    }
   ],
   "source": [
    "number = int(input())\n",
    "             \n",
    "while (number < 20):\n",
    "    if number == 16:\n",
    "        break\n",
    "    number = number + 4\n",
    "    print(number)\n",
    "else:\n",
    "    print(\"Loop End\")"
   ]
  }
 ],
 "metadata": {
  "kernelspec": {
   "display_name": "Python 3 (ipykernel)",
   "language": "python",
   "name": "python3"
  },
  "language_info": {
   "codemirror_mode": {
    "name": "ipython",
    "version": 3
   },
   "file_extension": ".py",
   "mimetype": "text/x-python",
   "name": "python",
   "nbconvert_exporter": "python",
   "pygments_lexer": "ipython3",
   "version": "3.11.7"
  }
 },
 "nbformat": 4,
 "nbformat_minor": 5
}
